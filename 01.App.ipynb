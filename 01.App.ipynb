{
 "cells": [
  {
   "cell_type": "code",
   "execution_count": 1,
   "id": "f14da652",
   "metadata": {},
   "outputs": [],
   "source": [
    "import xlwings as xw"
   ]
  },
  {
   "cell_type": "code",
   "execution_count": 3,
   "id": "759d9d96",
   "metadata": {},
   "outputs": [],
   "source": [
    "# App(visible=None, spec=None, add_book=True, impl=None)\n",
    "app = xw.App(visible=True,add_book=False)"
   ]
  },
  {
   "cell_type": "code",
   "execution_count": 4,
   "id": "b6552aba",
   "metadata": {},
   "outputs": [],
   "source": [
    "xk = app.books.open('飞鱼.xlsx')"
   ]
  },
  {
   "cell_type": "code",
   "execution_count": 9,
   "id": "5ad9d622",
   "metadata": {},
   "outputs": [],
   "source": [
    "# 激活工作表\n",
    "xk.activate(True)"
   ]
  },
  {
   "cell_type": "code",
   "execution_count": null,
   "id": "ca83efd3",
   "metadata": {},
   "outputs": [],
   "source": [
    "sht = xk.sheets(1).a"
   ]
  },
  {
   "cell_type": "code",
   "execution_count": 19,
   "id": "d5c3dfce",
   "metadata": {},
   "outputs": [
    {
     "data": {
      "text/plain": [
       "'no'"
      ]
     },
     "execution_count": 19,
     "metadata": {},
     "output_type": "execute_result"
    }
   ],
   "source": [
    "# alert(prompt, title=None, buttons='ok', mode=None, callback=None)\n",
    "# • prompt (str, default None) – The message to be displayed.\n",
    "# • title (str, default None) – The title of the alert.\n",
    "# • buttons (str, default \"ok\") – Can be either \"ok\", \"ok_cancel\", \"yes_no\",\n",
    "# or \"yes_no_cancel\".\n",
    "# • mode (str, default None) – Can be \"info\" or \"critical\". Not supported\n",
    "# by Google Sheets. 显示的警告图像\n",
    "# • callback (str, default None) – Only used by xlwings Server: you can provide the name of a function that will be called with the value of the pressed button as argument. The function has to exist on the client side, i.e., in VBA or\n",
    "# JavaScript.\n",
    "\n",
    "\n",
    "\n",
    "# 相当于VBA中的MsgBox\n",
    "a  = app.alert('1',buttons='yes_no_cancel',mode='critical')\n",
    "a"
   ]
  },
  {
   "cell_type": "code",
   "execution_count": 28,
   "id": "bdbbb0f0",
   "metadata": {},
   "outputs": [],
   "source": [
    "# Forces the Excel app to quit by killing its process.强制结束\n",
    "# app.kill()"
   ]
  },
  {
   "cell_type": "code",
   "execution_count": 35,
   "id": "4176fbbd",
   "metadata": {},
   "outputs": [],
   "source": [
    "# Runs a Sub or Function in Excel VBA that are not part of a specific workbook but e.g. are part\n",
    "# of an add-in.\n",
    "# 运行Excel中的VBA\n",
    "m = app.macro('模块1.a')\n",
    "m()"
   ]
  },
  {
   "cell_type": "markdown",
   "id": "fe0611e2",
   "metadata": {},
   "source": [
    "#  属性 property "
   ]
  },
  {
   "cell_type": "code",
   "execution_count": 49,
   "id": "c0ebf85f",
   "metadata": {},
   "outputs": [
    {
     "data": {
      "text/plain": [
       "True"
      ]
     },
     "execution_count": 49,
     "metadata": {},
     "output_type": "execute_result"
    }
   ],
   "source": [
    "# Returns the path to where the App is installed. \n",
    "# 返回程序的安装途径\n",
    "app.path\n",
    "\n",
    "# Gets or sets the status of the cut or copy mode. Accepts False for setting and returns None, copy\n",
    "# or cut when getting the status.\n",
    "app.cut_copy_mode\n",
    "\n",
    "#The default value is True. Set this property to False to suppress prompts and alert messages while\n",
    "# code is running; when a message requires a response, Excel chooses the default response.\n",
    "app.display_alerts"
   ]
  },
  {
   "cell_type": "code",
   "execution_count": 50,
   "id": "531c2d35",
   "metadata": {},
   "outputs": [
    {
     "data": {
      "text/plain": [
       "True"
      ]
     },
     "execution_count": 50,
     "metadata": {},
     "output_type": "execute_result"
    }
   ],
   "source": [
    "# Returns the path to where the App is installed. \n",
    "# 返回程序的安装途径\n",
    "app.path\n",
    "\n",
    "# Gets or sets the status of the cut or copy mode. Accepts False for setting and returns None, copy\n",
    "# or cut when getting the status.\n",
    "app.cut_copy_mode\n",
    "\n",
    "#The default value is True. Set this property to False to suppress prompts and alert messages while\n",
    "# code is running; when a message requires a response, Excel chooses the default response.\n",
    "app.display_alerts\n",
    "\n",
    "# True if events are enabled. Read/write boolean\n",
    "app.enable_events"
   ]
  },
  {
   "cell_type": "code",
   "execution_count": 51,
   "id": "a4b05209",
   "metadata": {},
   "outputs": [
    {
     "data": {
      "text/plain": [
       "67466"
      ]
     },
     "execution_count": 51,
     "metadata": {},
     "output_type": "execute_result"
    }
   ],
   "source": [
    "# Returns the path to where the App is installed. \n",
    "# 返回程序的安装途径\n",
    "app.path\n",
    "\n",
    "# Gets or sets the status of the cut or copy mode. Accepts False for setting and returns None, copy\n",
    "# or cut when getting the status.\n",
    "app.cut_copy_mode\n",
    "\n",
    "#The default value is True. Set this property to False to suppress prompts and alert messages while\n",
    "# code is running; when a message requires a response, Excel chooses the default response.\n",
    "app.display_alerts\n",
    "\n",
    "# True if events are enabled. Read/write boolean\n",
    "app.enable_events\n",
    "\n",
    "# Returns the Window handle (Windows-only).\n",
    "app.hwnd"
   ]
  },
  {
   "cell_type": "code",
   "execution_count": null,
   "id": "f0f788d1",
   "metadata": {},
   "outputs": [],
   "source": [
    "# Returns the path to where the App is installed. \n",
    "# 返回程序的安装途径\n",
    "app.path\n",
    "\n",
    "# Gets or sets the status of the cut or copy mode. Accepts False for setting and returns None, copy\n",
    "# or cut when getting the status.\n",
    "app.cut_copy_mode\n",
    "\n",
    "#The default value is True. Set this property to False to suppress prompts and alert messages while\n",
    "# code is running; when a message requires a response, Excel chooses the default response.\n",
    "app.display_alerts\n",
    "\n",
    "# True if events are enabled. Read/write boolean\n",
    "app.enable_events\n",
    "\n",
    "# Returns the Window handle (Windows-only).\n",
    "app.hwnd\n",
    "\n",
    "# True if Excel is in interactive mode. If you set this property to False, Excel blocks all input\n",
    "# from the keyboard and mouse (except input to dialog boxes that are displayed by your code).\n",
    "# Read/write Boolean. NOTE: Not supported on macOS.\n",
    "\n",
    "# 如果Excel处于交互模式，则为true。如果将此属性设置为false，\n",
    "# Excel将阻止来自键盘和鼠标的所有输入(代码显示的对话框输入除外)。\n",
    "# 注意：MacOS不支持。\n",
    "\n",
    "app.interactive\n",
    "\n",
    "\n",
    "# 返回程序的pid\n",
    "app.pid"
   ]
  },
  {
   "cell_type": "code",
   "execution_count": 55,
   "id": "e56f86a3",
   "metadata": {},
   "outputs": [
    {
     "data": {
      "text/plain": [
       "<contextlib._GeneratorContextManager at 0x1f8799a5480>"
      ]
     },
     "execution_count": 55,
     "metadata": {},
     "output_type": "execute_result"
    }
   ],
   "source": [
    "# Context manager that allows you to easily change the app's properties temporarily. \n",
    "# Once the codeleaves the with block, the properties are changed back to their previous state. \n",
    "# Note: Must be usedas context manager or else will have no effect. \n",
    "# Also, you can only use app properties that youcan both read and write.\n",
    "# 上下文管理器，它允许您轻松地更改应用程序的属性。一旦删除WITH块，属性就会更改回原来的状态。\n",
    "# 注意：必须作为上下文管理器使用，否则不会产生任何影响。另外，你只能使用你可以读写的应用程序属性。\n",
    "# app.properties()\n",
    "\n",
    "# \n",
    "import xlwings as xw\n",
    "app = App()\n",
    "# Sets app.display_alerts = False\n",
    "with app.properties(display_alerts=False):\n",
    "# do stuff\n",
    "# Sets app.calculation = 'manual' and app.enable_events = True\n",
    "with app.properties(calculation=’manual’, enable_events=True):\n",
    "# do stuff\n",
    "# Makes sure the status bar is reset even if an error happens in the with block\n",
    "with app.properties(status_bar=’Calculating...’):\n",
    "# do stuff"
   ]
  },
  {
   "cell_type": "code",
   "execution_count": null,
   "id": "af2ba55c",
   "metadata": {},
   "outputs": [],
   "source": [
    "# Quits the application without saving any workbooks.\n",
    "# app.quit()"
   ]
  },
  {
   "cell_type": "code",
   "execution_count": 56,
   "id": "93ca57a8",
   "metadata": {},
   "outputs": [
    {
     "data": {
      "text/plain": [
       "<Range [飞鱼.xlsx]销售线索!$A$1>"
      ]
     },
     "execution_count": 56,
     "metadata": {},
     "output_type": "execute_result"
    }
   ],
   "source": [
    "app.range('A1')"
   ]
  },
  {
   "cell_type": "code",
   "execution_count": 58,
   "id": "ec1cc2a1",
   "metadata": {},
   "outputs": [],
   "source": [
    "# render_template(template=None, output=None, book_settings=None, **data)"
   ]
  },
  {
   "cell_type": "code",
   "execution_count": 59,
   "id": "0e05391e",
   "metadata": {},
   "outputs": [
    {
     "data": {
      "text/plain": [
       "True"
      ]
     },
     "execution_count": 59,
     "metadata": {},
     "output_type": "execute_result"
    }
   ],
   "source": [
    "# Turn screen updating off to speed up your script. You won’t be able to see what the script is\n",
    "# doing, but it will run faster. Remember to set the screen_updating property back to True when\n",
    "# your script ends.\n",
    "\n",
    "# 控制代码运行时是否刷新页面\n",
    "\n",
    "app.screen_updating"
   ]
  },
  {
   "cell_type": "code",
   "execution_count": 73,
   "id": "d8135fb2",
   "metadata": {},
   "outputs": [
    {
     "data": {
      "text/plain": [
       "True"
      ]
     },
     "execution_count": 73,
     "metadata": {},
     "output_type": "execute_result"
    }
   ],
   "source": [
    "# 选择的单元格\n",
    "app.selection\n",
    "\n",
    "# Returns the path to XLSTART which is where the xlwings add-in gets copied to by doing xlwings addin install.\n",
    "app.startup_path\n",
    "\n",
    "# Gets or sets the value of the status bar. Returns False if Excel has control of it.\n",
    "# 获取或设置状态栏的值。如果Excel对其有控制，则返回false。\n",
    "\n",
    "app.status_bar\n",
    "\n",
    "# Returns the Excel version number object.\n",
    "# 返回Excel版本号对象。\n",
    "app.version\n",
    "app.version.major\n",
    "app.version.value\n",
    "\n",
    "\n",
    "# Gets or sets the visibility of Excel to True or False.\n",
    "# 获取或设置Excel的可见性为True或false。\n",
    "app.visible"
   ]
  }
 ],
 "metadata": {
  "kernelspec": {
   "display_name": "Python 3 (ipykernel)",
   "language": "python",
   "name": "python3"
  },
  "language_info": {
   "codemirror_mode": {
    "name": "ipython",
    "version": 3
   },
   "file_extension": ".py",
   "mimetype": "text/x-python",
   "name": "python",
   "nbconvert_exporter": "python",
   "pygments_lexer": "ipython3",
   "version": "3.10.10"
  }
 },
 "nbformat": 4,
 "nbformat_minor": 5
}
