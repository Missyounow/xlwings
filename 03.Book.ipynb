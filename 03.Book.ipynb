{
 "cells": [
  {
   "cell_type": "code",
   "execution_count": 1,
   "id": "3a092b3c",
   "metadata": {},
   "outputs": [],
   "source": [
    "import xlwings as xw"
   ]
  },
  {
   "cell_type": "code",
   "execution_count": 11,
   "id": "4e73e8c9",
   "metadata": {},
   "outputs": [
    {
     "data": {
      "text/plain": [
       "<Book [飞鱼.xlsx]>"
      ]
     },
     "execution_count": 11,
     "metadata": {},
     "output_type": "execute_result"
    }
   ],
   "source": [
    "xw.books[0]"
   ]
  },
  {
   "cell_type": "code",
   "execution_count": null,
   "id": "fda05899",
   "metadata": {},
   "outputs": [],
   "source": [
    "# Book(fullname=None, update_links=None, read_only=None, format=None, password=None,\n",
    "# write_res_password=None, ignore_read_only_recommended=None, origin=None,\n",
    "# delimiter=None, editable=None, notify=None, converter=None, add_to_mru=None,\n",
    "# local=None, corrupt_load=None, impl=None, json=None, mode=None, engine=None)\n",
    "\n",
    "\n",
    "# fullname全路径\n",
    "# update_links  (bool，默认无)-如果省略此参数，将提示用户指定如何更新链接。\n",
    "# read_only只读控制\n",
    "\n",
    "# format (str) – If opening a text file, this specifies the delimiter character\n",
    "# password (str) – Password to open a protected workbook\n",
    "# write_res_password (str) – Password to write to a write-reserved workbook\n",
    "# ignore_read_only_recommended (bool, default False) – Set to True to mute the read-only recommended message\n",
    "\n",
    "# origin (int) – For text files only. Specifies where it originated. Use Platform constants."
   ]
  },
  {
   "cell_type": "code",
   "execution_count": 36,
   "id": "635cc753",
   "metadata": {},
   "outputs": [],
   "source": [
    "wk = xw.Book('飞鱼.xlsx')"
   ]
  },
  {
   "cell_type": "code",
   "execution_count": 16,
   "id": "6b13c530",
   "metadata": {},
   "outputs": [],
   "source": [
    "# steal_focus (bool， default False)-If 'True,make frontmost window andhand over focus from Python to Excel.\n",
    "# TRUST_Focus(bool，默认为false)--如果‘True’，则创建最前面的窗口，并将焦点从Python传递到Excel。\n",
    "\n",
    "wk.activate()"
   ]
  },
  {
   "cell_type": "code",
   "execution_count": 17,
   "id": "ca6d7f89",
   "metadata": {},
   "outputs": [
    {
     "data": {
      "text/plain": [
       "<win32com.gen_py.See https://github.com/xlwings/xlwings/issues/1789\n",
       "Can be removed again if there's a solution for\n",
       "https://github.com/mhammond/pywin32/issues/1870\n",
       "\n",
       "This file's content is taken from pywin32 v301,\n",
       "distributed under the following license:\n",
       "\n",
       "Unless stated in the specfic source file, this work is\n",
       "Copyright (c) 1996-2008, Greg Stein and Mark Hammond.\n",
       "All rights reserved.\n",
       "\n",
       "Redistribution and use in source and binary forms, with or without\n",
       "modification, are permitted provided that the following conditions\n",
       "are met:\n",
       "\n",
       "Redistributions of source code must retain the above copyright notice,\n",
       "this list of conditions and the following disclaimer.\n",
       "\n",
       "Redistributions in binary form must reproduce the above copyright\n",
       "notice, this list of conditions and the following disclaimer in\n",
       "the documentation and/or other materials provided with the distribution.\n",
       "\n",
       "Neither names of Greg Stein, Mark Hammond nor the name of contributors may be used\n",
       "to endorse or promote products derived from this software without\n",
       "specific prior written permission.\n",
       "\n",
       "THIS SOFTWARE IS PROVIDED BY THE COPYRIGHT HOLDERS AND CONTRIBUTORS ``AS\n",
       "IS'' AND ANY EXPRESS OR IMPLIED WARRANTIES, INCLUDING, BUT NOT LIMITED\n",
       "TO, THE IMPLIED WARRANTIES OF MERCHANTABILITY AND FITNESS FOR A\n",
       "PARTICULAR PURPOSE ARE DISCLAIMED. IN NO EVENT SHALL THE REGENTS OR\n",
       "CONTRIBUTORS BE LIABLE FOR ANY DIRECT, INDIRECT, INCIDENTAL, SPECIAL,\n",
       "EXEMPLARY, OR CONSEQUENTIAL DAMAGES (INCLUDING, BUT NOT LIMITED TO,\n",
       "PROCUREMENT OF SUBSTITUTE GOODS OR SERVICES; LOSS OF USE, DATA, OR\n",
       "PROFITS; OR BUSINESS INTERRUPTION) HOWEVER CAUSED AND ON ANY THEORY OF\n",
       "LIABILITY, WHETHER IN CONTRACT, STRICT LIABILITY, OR TORT (INCLUDING\n",
       "NEGLIGENCE OR OTHERWISE) ARISING IN ANY WAY OUT OF THE USE OF THIS\n",
       "SOFTWARE, EVEN IF ADVISED OF THE POSSIBILITY OF SUCH DAMAGE.\n",
       ".Workbook>"
      ]
     },
     "execution_count": 17,
     "metadata": {},
     "output_type": "execute_result"
    }
   ],
   "source": [
    "wk.api"
   ]
  },
  {
   "cell_type": "code",
   "execution_count": 19,
   "id": "da5649ef",
   "metadata": {},
   "outputs": [],
   "source": [
    "# ???\n",
    "# 这个不清楚\n",
    "# wk.caller()\n",
    "# wk.json()"
   ]
  },
  {
   "cell_type": "code",
   "execution_count": 37,
   "id": "b439216b",
   "metadata": {},
   "outputs": [
    {
     "data": {
      "text/plain": [
       "<Range [飞鱼.xlsx]销售线索!$F$8>"
      ]
     },
     "execution_count": 37,
     "metadata": {},
     "output_type": "execute_result"
    }
   ],
   "source": [
    "wk.fullname\n",
    "wk.name\n",
    "wk.selection"
   ]
  },
  {
   "cell_type": "code",
   "execution_count": 29,
   "id": "998505b2",
   "metadata": {},
   "outputs": [],
   "source": [
    "# 引用VBA\n",
    "mac = wk.macro(\"模块1.a\")\n",
    "mac()"
   ]
  },
  {
   "cell_type": "code",
   "execution_count": 34,
   "id": "6e934d97",
   "metadata": {},
   "outputs": [],
   "source": [
    "# save(path=None, password=None)\n",
    "wk.save('fei.xlsx',password='1111')"
   ]
  },
  {
   "cell_type": "code",
   "execution_count": 39,
   "id": "ebd4d9be",
   "metadata": {},
   "outputs": [
    {
     "data": {
      "text/plain": [
       "Sheets([<Sheet [飞鱼.xlsx]销售线索>, <Sheet [飞鱼.xlsx]表单-1月整形活动-方案价格-不漏价(1)>, <Sheet [飞鱼.xlsx]在线咨询>, ...])"
      ]
     },
     "execution_count": 39,
     "metadata": {},
     "output_type": "execute_result"
    }
   ],
   "source": [
    "wk.sheets"
   ]
  },
  {
   "cell_type": "code",
   "execution_count": 40,
   "id": "901e79a4",
   "metadata": {},
   "outputs": [
    {
     "data": {
      "text/plain": [
       "'C:\\\\Users\\\\mylike\\\\Desktop\\\\xlwings\\\\飞鱼.pdf'"
      ]
     },
     "execution_count": 40,
     "metadata": {},
     "output_type": "execute_result"
    }
   ],
   "source": [
    "wk.to_pdf()"
   ]
  }
 ],
 "metadata": {
  "kernelspec": {
   "display_name": "Python 3 (ipykernel)",
   "language": "python",
   "name": "python3"
  },
  "language_info": {
   "codemirror_mode": {
    "name": "ipython",
    "version": 3
   },
   "file_extension": ".py",
   "mimetype": "text/x-python",
   "name": "python",
   "nbconvert_exporter": "python",
   "pygments_lexer": "ipython3",
   "version": "3.10.10"
  }
 },
 "nbformat": 4,
 "nbformat_minor": 5
}
