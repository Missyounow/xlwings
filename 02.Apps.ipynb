{
 "cells": [
  {
   "cell_type": "code",
   "execution_count": 5,
   "id": "fcae7162",
   "metadata": {},
   "outputs": [],
   "source": [
    "import xlwings as xw"
   ]
  },
  {
   "cell_type": "code",
   "execution_count": 6,
   "id": "8be783f5",
   "metadata": {},
   "outputs": [
    {
     "data": {
      "text/plain": [
       "<App [excel] 5832>"
      ]
     },
     "execution_count": 6,
     "metadata": {},
     "output_type": "execute_result"
    }
   ],
   "source": [
    "xw.App()"
   ]
  },
  {
   "cell_type": "code",
   "execution_count": 15,
   "id": "140aa67a",
   "metadata": {},
   "outputs": [
    {
     "data": {
      "text/plain": [
       "Apps([<App [excel] 13704>, <App [excel] 5832>])"
      ]
     },
     "execution_count": 15,
     "metadata": {},
     "output_type": "execute_result"
    }
   ],
   "source": [
    "xw.apps"
   ]
  },
  {
   "cell_type": "code",
   "execution_count": 16,
   "id": "c16d226a",
   "metadata": {},
   "outputs": [
    {
     "data": {
      "text/plain": [
       "<App [excel] 13704>"
      ]
     },
     "execution_count": 16,
     "metadata": {},
     "output_type": "execute_result"
    }
   ],
   "source": [
    "xw.apps.active"
   ]
  },
  {
   "cell_type": "code",
   "execution_count": 14,
   "id": "a52e14db",
   "metadata": {},
   "outputs": [
    {
     "data": {
      "text/plain": [
       "<App [excel] 9144>"
      ]
     },
     "execution_count": 14,
     "metadata": {},
     "output_type": "execute_result"
    }
   ],
   "source": [
    "# Creates a new App. The new App becomes the active one.Returns an App object.\n",
    "# 创建一个新的应用程序。新的应用程序变成活动的应用程序，返回一个App对象。\n",
    "\n",
    "xw.apps.add()"
   ]
  },
  {
   "cell_type": "code",
   "execution_count": 17,
   "id": "0599fc3b",
   "metadata": {},
   "outputs": [
    {
     "data": {
      "text/plain": [
       "2"
      ]
     },
     "execution_count": 17,
     "metadata": {},
     "output_type": "execute_result"
    }
   ],
   "source": [
    "xw.apps.count"
   ]
  },
  {
   "cell_type": "code",
   "execution_count": 18,
   "id": "20d1c360",
   "metadata": {},
   "outputs": [
    {
     "data": {
      "text/plain": [
       "[13704, 5832]"
      ]
     },
     "execution_count": 18,
     "metadata": {},
     "output_type": "execute_result"
    }
   ],
   "source": [
    "xw.apps.keys()"
   ]
  }
 ],
 "metadata": {
  "kernelspec": {
   "display_name": "Python 3 (ipykernel)",
   "language": "python",
   "name": "python3"
  },
  "language_info": {
   "codemirror_mode": {
    "name": "ipython",
    "version": 3
   },
   "file_extension": ".py",
   "mimetype": "text/x-python",
   "name": "python",
   "nbconvert_exporter": "python",
   "pygments_lexer": "ipython3",
   "version": "3.10.10"
  }
 },
 "nbformat": 4,
 "nbformat_minor": 5
}
